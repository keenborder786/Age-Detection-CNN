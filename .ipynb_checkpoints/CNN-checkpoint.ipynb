{
 "cells": [
  {
   "cell_type": "code",
   "execution_count": 3,
   "metadata": {
    "colab": {
     "base_uri": "https://localhost:8080/",
     "height": 496
    },
    "colab_type": "code",
    "executionInfo": {
     "elapsed": 87075,
     "status": "ok",
     "timestamp": 1565733772327,
     "user": {
      "displayName": "Ur Tech Guide",
      "photoUrl": "https://lh3.googleusercontent.com/-IYblpruzPS4/AAAAAAAAAAI/AAAAAAAAAxE/NFCZVaQQn4g/s64/photo.jpg",
      "userId": "03152431167485721857"
     },
     "user_tz": -300
    },
    "id": "y4bt-h5N6Jnd",
    "outputId": "b282d271-30a8-4e5f-970f-392bb5e685f2"
   },
   "outputs": [
    {
     "name": "stdout",
     "output_type": "stream",
     "text": [
      "Collecting pydrive\n",
      "\u001b[?25l  Downloading https://files.pythonhosted.org/packages/52/e0/0e64788e5dd58ce2d6934549676243dc69d982f198524be9b99e9c2a4fd5/PyDrive-1.3.1.tar.gz (987kB)\n",
      "\u001b[K     |████████████████████████████████| 993kB 6.3MB/s \n",
      "\u001b[?25hRequirement already satisfied: google-api-python-client>=1.2 in /usr/local/lib/python3.6/dist-packages (from pydrive) (1.7.10)\n",
      "Requirement already satisfied: oauth2client>=4.0.0 in /usr/local/lib/python3.6/dist-packages (from pydrive) (4.1.3)\n",
      "Requirement already satisfied: PyYAML>=3.0 in /usr/local/lib/python3.6/dist-packages (from pydrive) (3.13)\n",
      "Requirement already satisfied: google-auth>=1.4.1 in /usr/local/lib/python3.6/dist-packages (from google-api-python-client>=1.2->pydrive) (1.4.2)\n",
      "Requirement already satisfied: uritemplate<4dev,>=3.0.0 in /usr/local/lib/python3.6/dist-packages (from google-api-python-client>=1.2->pydrive) (3.0.0)\n",
      "Requirement already satisfied: six<2dev,>=1.6.1 in /usr/local/lib/python3.6/dist-packages (from google-api-python-client>=1.2->pydrive) (1.12.0)\n",
      "Requirement already satisfied: google-auth-httplib2>=0.0.3 in /usr/local/lib/python3.6/dist-packages (from google-api-python-client>=1.2->pydrive) (0.0.3)\n",
      "Requirement already satisfied: httplib2<1dev,>=0.9.2 in /usr/local/lib/python3.6/dist-packages (from google-api-python-client>=1.2->pydrive) (0.11.3)\n",
      "Requirement already satisfied: rsa>=3.1.4 in /usr/local/lib/python3.6/dist-packages (from oauth2client>=4.0.0->pydrive) (4.0)\n",
      "Requirement already satisfied: pyasn1-modules>=0.0.5 in /usr/local/lib/python3.6/dist-packages (from oauth2client>=4.0.0->pydrive) (0.2.6)\n",
      "Requirement already satisfied: pyasn1>=0.1.7 in /usr/local/lib/python3.6/dist-packages (from oauth2client>=4.0.0->pydrive) (0.4.6)\n",
      "Requirement already satisfied: cachetools>=2.0.0 in /usr/local/lib/python3.6/dist-packages (from google-auth>=1.4.1->google-api-python-client>=1.2->pydrive) (3.1.1)\n",
      "Building wheels for collected packages: pydrive\n",
      "  Building wheel for pydrive (setup.py) ... \u001b[?25l\u001b[?25hdone\n",
      "  Created wheel for pydrive: filename=PyDrive-1.3.1-cp36-none-any.whl size=27435 sha256=48614b4f31b834607e8639d03ea6ab3d378b8e298bdec0d309af6f7169ab9bcb\n",
      "  Stored in directory: /root/.cache/pip/wheels/fa/d2/9a/d3b6b506c2da98289e5d417215ce34b696db856643bad779f4\n",
      "Successfully built pydrive\n",
      "Installing collected packages: pydrive\n",
      "Successfully installed pydrive-1.3.1\n",
      "Go to this URL in a browser: https://accounts.google.com/o/oauth2/auth?client_id=947318989803-6bn6qk8qdgf4n4g3pfee6491hc0brc4i.apps.googleusercontent.com&redirect_uri=urn%3Aietf%3Awg%3Aoauth%3A2.0%3Aoob&scope=email%20https%3A%2F%2Fwww.googleapis.com%2Fauth%2Fdocs.test%20https%3A%2F%2Fwww.googleapis.com%2Fauth%2Fdrive%20https%3A%2F%2Fwww.googleapis.com%2Fauth%2Fdrive.photos.readonly%20https%3A%2F%2Fwww.googleapis.com%2Fauth%2Fpeopleapi.readonly&response_type=code\n",
      "\n",
      "Enter your authorization code:\n",
      "··········\n",
      "Mounted at /content/gdrive\n"
     ]
    }
   ],
   "source": [
    "!pip install pydrive\n",
    "from google.colab import drive\n",
    "drive.mount('/content/gdrive')##Connecting the notebook to google cloud"
   ]
  },
  {
   "cell_type": "code",
   "execution_count": 3,
   "metadata": {
    "colab": {
     "base_uri": "https://localhost:8080/",
     "height": 34
    },
    "colab_type": "code",
    "executionInfo": {
     "elapsed": 80027,
     "status": "ok",
     "timestamp": 1565733775035,
     "user": {
      "displayName": "Ur Tech Guide",
      "photoUrl": "https://lh3.googleusercontent.com/-IYblpruzPS4/AAAAAAAAAAI/AAAAAAAAAxE/NFCZVaQQn4g/s64/photo.jpg",
      "userId": "03152431167485721857"
     },
     "user_tz": -300
    },
    "id": "JYS5yLxz6OyV",
    "outputId": "3e5fba1d-a81a-4c85-93c9-5b618f6ee05c"
   },
   "outputs": [],
   "source": [
    "##All Imports and Dependencies needed to make the CNN working\n",
    "import cv2\n",
    "import os\n",
    "import pandas as pd\n",
    "import numpy as np\n",
    "from tqdm import tqdm\n",
    "import matplotlib.pyplot as plt\n",
    "from tensorflow import keras \n",
    "from tensorflow.keras import datasets, layers, models\n",
    "from sklearn.model_selection import train_test_split\n",
    "from tensorflow.keras.models import Sequential\n",
    "from tensorflow.keras.layers import Dense, Dropout, Flatten\n",
    "from tensorflow.keras.layers import Conv2D, MaxPooling2D, BatchNormalization\n",
    "from tensorflow.keras.models import Model\n",
    "from tensorflow.keras import applications\n",
    "import time\n",
    "# from keras.models import Model\n",
    "# from keras.layers import Input, Convolution2D, ZeroPadding2D, MaxPooling2D, Flatten, Dense, Dropout(Uncomment if you want to run vgg_face)\n",
    "# from keras import optimizers\n",
    "os.chdir('/content/gdrive/My Drive/kaggle')\n",
    "root_logdir = os.path.join(os.curdir, \"my_logs\")\n",
    "def get_run_logdir():#helper function to store information about my model-tensorboard\n",
    "    run_id = time.strftime(\"run_%Y_%m_%d-%H_%M_%S\")\n",
    "    return os.path.join(root_logdir, run_id)\n",
    "def vgg_face(weights_path=None):##First Approach-Used a VGG-Face architecture(Please see below)\n",
    "    img = Input(shape=(224, 224, 3))\n",
    "\n",
    "    pad1_1 = ZeroPadding2D(padding=(1, 1))(img)\n",
    "    conv1_1 = Convolution2D(64, 3, 3, activation='relu', name='conv1_1')(pad1_1)\n",
    "    pad1_2 = ZeroPadding2D(padding=(1, 1))(conv1_1)\n",
    "    conv1_2 = Convolution2D(64, 3, 3, activation='relu', name='conv1_2')(pad1_2)\n",
    "    pool1 = MaxPooling2D((2, 2), strides=(2, 2))(conv1_2)\n",
    "    pool1=Dropout(0.15)(pool1)\n",
    "\n",
    "    pad2_1 = ZeroPadding2D((1, 1))(pool1)\n",
    "    conv2_1 = Convolution2D(128, 3, 3, activation='relu', name='conv2_1')(pad2_1)\n",
    "    pad2_2 = ZeroPadding2D((1, 1))(conv2_1)\n",
    "    conv2_2 = Convolution2D(128, 3, 3, activation='relu', name='conv2_2')(pad2_2)\n",
    "    pool2 = MaxPooling2D((2, 2), strides=(2, 2))(conv2_2)\n",
    "    pool2=Dropout(0.15)(pool2)\n",
    "\n",
    "    pad3_1 = ZeroPadding2D((1, 1))(pool2)\n",
    "    conv3_1 = Convolution2D(256, 3, 3, activation='relu', name='conv3_1')(pad3_1)\n",
    "    pad3_2 = ZeroPadding2D((1, 1))(conv3_1)\n",
    "    conv3_2 = Convolution2D(256, 3, 3, activation='relu', name='conv3_2')(pad3_2)\n",
    "    pad3_3 = ZeroPadding2D((1, 1))(conv3_2)\n",
    "    conv3_3 = Convolution2D(256, 3, 3, activation='relu', name='conv3_3')(pad3_3)\n",
    "    pool3 = MaxPooling2D((2, 2), strides=(2, 2))(conv3_3)\n",
    "    pool3=Dropout(0.15)(pool3)\n",
    "\n",
    "    pad4_1 = ZeroPadding2D((1, 1))(pool3)\n",
    "    conv4_1 = Convolution2D(512, 3, 3, activation='relu', name='conv4_1')(pad4_1)\n",
    "    pad4_2 = ZeroPadding2D((1, 1))(conv4_1)\n",
    "    conv4_2 = Convolution2D(512, 3, 3, activation='relu', name='conv4_2')(pad4_2)\n",
    "    pad4_3 = ZeroPadding2D((1, 1))(conv4_2)\n",
    "    conv4_3 = Convolution2D(512, 3, 3, activation='relu', name='conv4_3')(pad4_3)\n",
    "    pool4 = MaxPooling2D((2, 2), strides=(2, 2))(conv4_3)\n",
    "    pool4=Dropout(0.15)(pool4)\n",
    "    \n",
    "    pad5_1 = ZeroPadding2D((1, 1))(pool4)\n",
    "    conv5_1 = Convolution2D(512, 3, 3, activation='relu', name='conv5_1')(pad5_1)\n",
    "    pad5_2 = ZeroPadding2D((1, 1))(conv5_1)\n",
    "    conv5_2 = Convolution2D(512, 3, 3, activation='relu', name='conv5_2')(pad5_2)\n",
    "    pad5_3 = ZeroPadding2D((1, 1))(conv5_2)\n",
    "    conv5_3 = Convolution2D(512, 3, 3, activation='relu', name='conv5_3')(pad5_3)\n",
    "    pool5 = MaxPooling2D((2, 2), strides=(2, 2))(conv5_3)\n",
    "    pool5=Dropout(0.25)(pool5)\n",
    "    \n",
    "    \n",
    "    \n",
    "    flat = Flatten()(pool5)\n",
    "    fc6 = Dense(4096, activation='relu', name='fc6')(flat)\n",
    "    fc6_drop = Dropout(0.5)(fc6)\n",
    "    fc7 = Dense(4096, activation='relu', name='fc7')(fc6_drop)\n",
    "    fc7_drop = Dropout(0.5)(fc7)\n",
    "    out = Dense(4, activation='softmax', name='fc8')(fc7_drop)\n",
    "\n",
    "    model = Model(input=img, output=out)\n",
    "    \n",
    "    sgd = optimizers.SGD(lr=0.1, decay=1e-3, momentum=0.9, nesterov=True)\n",
    "    model.compile(loss='sparse_categorical_crossentropy',\n",
    "                     optimizer=\"adam\",\n",
    "                     metrics=['accuracy'])\n",
    "\n",
    "    if weights_path:\n",
    "        model.load_weights(weights_path)\n",
    "\n",
    "    return model\n",
    "def transfer_learning():##Second Approach(Used Transfer Learning-Combined ResnetV2 with Single ConvLayer and Pooling Layer,Please see below)\n",
    "  base_model =applications.inception_resnet_v2.InceptionResNetV2(include_top=False, weights=\"imagenet\",input_shape=(224,224,3))###using famous pre-trained model \n",
    "  \n",
    "  \n",
    "  for layer in base_model.layers:\n",
    "      layer.trainable = True\n",
    "\n",
    "  x = base_model.output\n",
    "  \n",
    "  \n",
    "  x = Conv2D(filters=64, kernel_size=(3, 3), activation='relu')(x)\n",
    "  x = MaxPooling2D(pool_size=(2, 2))(x)\n",
    "  x = Flatten()(x)\n",
    "  x = Dense(1024, activation='relu')(x)\n",
    "  x = Dropout(0.5)(x)\n",
    "  x = Dense(4, activation='softmax')(x)\n",
    "  custom_model =Model(base_model.input, x, name=\"base_model\")\n",
    "  \n",
    "  \n",
    "  \n",
    "  custom_model.compile(loss='categorical_crossentropy',\n",
    "                     optimizer='adam',\n",
    "                     metrics=['accuracy'])\n",
    "  \n",
    "\n",
    "  \n",
    "  return custom_model\n",
    "\n",
    "\n",
    "def training_network(X,y):\n",
    "    from sklearn.utils import class_weight\n",
    "    model=transfer_learning()\n",
    "#     model= vgg_face(weights_path=None) ## to use the other approach\n",
    "\n",
    "\n",
    "    y_integers = np.argmax(y, axis=1)\n",
    "    \n",
    "    class_weights = class_weight.compute_class_weight('balanced', np.unique(y_integers), y_integers)###The distribution of images classes\n",
    "    #was not balanced, most of images classe were of Adult therefore used class wieght-which allowed miniority classes to have a more impact\n",
    "    #on gradient descent algorithm-used the balance approach(https://scikit-learn.org/stable/modules/generated/sklearn.utils.class_weight.compute_class_weight.html)\n",
    "    \n",
    "    d_class_weights = dict(enumerate(class_weights))\n",
    "    print(d_class_weights) ##To see the new class wieghts\n",
    "\n",
    "    X=X.reshape(-1,224,224,3)##Reshaping the data for CNN\n",
    "    X, X_valid, y, y_valid = train_test_split(X, y, test_size=0.1)\n",
    "    \n",
    "    run_logdir = get_run_logdir()##Callbacks\n",
    "    tensorboard_cb = keras.callbacks.TensorBoard(run_logdir)\n",
    "    early_stopping_cb = keras.callbacks.EarlyStopping(patience=3,restore_best_weights=True)\n",
    "    \n",
    "    checkpoint_cb = keras.callbacks.ModelCheckpoint(\"my_keras_model.h5\",\n",
    "                                                    save_best_only=True)##Checkpoint to save the model\n",
    "    \n",
    "    \n",
    "    history = model.fit(X, y, epochs=10,\n",
    "                        validation_data=(X_valid, y_valid),\n",
    "                        callbacks=[checkpoint_cb,tensorboard_cb,early_stopping_cb],class_weight=d_class_weights)\n",
    "    ##Plotting the result\n",
    "    pd.DataFrame(history.history).plot(figsize=(8, 5))\n",
    "    plt.grid(True)\n",
    "    plt.gca().set_ylim(0, 1) # set the vertical range to [0-1]\n",
    "    plt.show()\n"
   ]
  },
  {
   "cell_type": "markdown",
   "metadata": {},
   "source": [
    "***VGG-FACE ARCITECTURE-First Approach***\n",
    "<img src=\"https://i0.wp.com/sefiks.com/wp-content/uploads/2019/04/vgg-face-architecture.jpg?w=1805&ssl=1\">"
   ]
  },
  {
   "cell_type": "markdown",
   "metadata": {},
   "source": [
    "***Transfer-Learning -Approach***\n",
    "<h1>InceptionResNetV2<h1>\n",
    "<p><img src=\"https://1.bp.blogspot.com/-O7AznVGY9js/V8cV_wKKsMI/AAAAAAAABKQ/maO7n2w3dT4Pkcmk7wgGqiSX5FUW2sfZgCLcB/s1600/image00.png\">"
   ]
  },
  {
   "cell_type": "markdown",
   "metadata": {},
   "source": [
    "<h2>Explanation of Second Approach<h2>\n",
    "<p> I took the ResnetInceptionV2 architecture from keras library, which was pretrained on a huge dataset of images\n",
    "of different object called Imagenet(http://image-net.org/download). I did not include the top layer as I want to give my own input\n",
    "which could have slight difference from images from ImageNet. However, I did not freeze the weights of ResnetInceptionV2,that is I\n",
    "allowed the training of the this architecture so the wieghts become adaptable to my images. I then combined a single CNN and Pooling Layer\n",
    "with the above mention architecture and then trained them together. The Training took a long time but the result was that I was able\n",
    "to achieve an accuracy of 70% on validation set</p>"
   ]
  },
  {
   "cell_type": "code",
   "execution_count": 0,
   "metadata": {
    "colab": {},
    "colab_type": "code",
    "id": "Tmh9h1j3Ai70"
   },
   "outputs": [],
   "source": [
    "X=np.load(\"train_data.npy\")\n",
    "y=np.load(\"y.npy\")\n",
    "# y=np.array([s.argmax() for s in y])###labels without one-hot encoding but then use sparse-categorical loss function-not proved effective\n",
    "# training_network(X,y)"
   ]
  },
  {
   "cell_type": "code",
   "execution_count": 7,
   "metadata": {
    "colab": {
     "base_uri": "https://localhost:8080/",
     "height": 527
    },
    "colab_type": "code",
    "executionInfo": {
     "elapsed": 82195,
     "status": "ok",
     "timestamp": 1565733906839,
     "user": {
      "displayName": "Ur Tech Guide",
      "photoUrl": "https://lh3.googleusercontent.com/-IYblpruzPS4/AAAAAAAAAAI/AAAAAAAAAxE/NFCZVaQQn4g/s64/photo.jpg",
      "userId": "03152431167485721857"
     },
     "user_tz": -300
    },
    "id": "8bDRFh5tAr32",
    "outputId": "9954c0a4-c93e-4070-cbbb-450a18ce75da"
   },
   "outputs": [
    {
     "name": "stderr",
     "output_type": "stream",
     "text": [
      "WARNING: Logging before flag parsing goes to stderr.\n",
      "W0813 22:04:25.897981 140517497681792 deprecation.py:506] From /usr/local/lib/python3.6/dist-packages/tensorflow/python/ops/init_ops.py:97: calling GlorotUniform.__init__ (from tensorflow.python.ops.init_ops) with dtype is deprecated and will be removed in a future version.\n",
      "Instructions for updating:\n",
      "Call initializer instance with the dtype argument instead of passing it to the constructor\n",
      "W0813 22:04:25.917506 140517497681792 deprecation.py:506] From /usr/local/lib/python3.6/dist-packages/tensorflow/python/ops/init_ops.py:1251: calling VarianceScaling.__init__ (from tensorflow.python.ops.init_ops) with dtype is deprecated and will be removed in a future version.\n",
      "Instructions for updating:\n",
      "Call initializer instance with the dtype argument instead of passing it to the constructor\n",
      "W0813 22:04:25.925307 140517497681792 deprecation.py:506] From /usr/local/lib/python3.6/dist-packages/tensorflow/python/ops/init_ops.py:97: calling Zeros.__init__ (from tensorflow.python.ops.init_ops) with dtype is deprecated and will be removed in a future version.\n",
      "Instructions for updating:\n",
      "Call initializer instance with the dtype argument instead of passing it to the constructor\n",
      "W0813 22:04:25.933451 140517497681792 deprecation.py:506] From /usr/local/lib/python3.6/dist-packages/tensorflow/python/ops/init_ops.py:97: calling Ones.__init__ (from tensorflow.python.ops.init_ops) with dtype is deprecated and will be removed in a future version.\n",
      "Instructions for updating:\n",
      "Call initializer instance with the dtype argument instead of passing it to the constructor\n"
     ]
    },
    {
     "name": "stdout",
     "output_type": "stream",
     "text": [
      "youth\n"
     ]
    },
    {
     "data": {
      "image/png": "[encoded data removed]",
      "text/plain": [
       "<Figure size 432x288 with 1 Axes>"
      ]
     },
     "metadata": {
      "tags": []
     },
     "output_type": "display_data"
    }
   ],
   "source": [
    "import matplotlib.pyplot as plt##Main neural network working-Checked to see how well the neural network performs on one single image\n",
    "X=X.reshape(-1,224,224,3)\n",
    "plt.imshow(X[2000])\n",
    "model = keras.models.load_model(\"my_keras_model.h5\")\n",
    "key=[\"child\",\"youth\",\"Adult\",\"Elder\"]\n",
    "print(key[np.argmax(model.predict(X[2000].reshape(1,224,224,3)))])"
   ]
  },
  {
   "cell_type": "code",
   "execution_count": 11,
   "metadata": {
    "colab": {
     "base_uri": "https://localhost:8080/",
     "height": 34
    },
    "colab_type": "code",
    "executionInfo": {
     "elapsed": 844155,
     "status": "ok",
     "timestamp": 1565735084664,
     "user": {
      "displayName": "Ur Tech Guide",
      "photoUrl": "https://lh3.googleusercontent.com/-IYblpruzPS4/AAAAAAAAAAI/AAAAAAAAAxE/NFCZVaQQn4g/s64/photo.jpg",
      "userId": "03152431167485721857"
     },
     "user_tz": -300
    },
    "id": "g0mLaE00jnrP",
    "outputId": "7b4ec8d4-2d9f-4cf0-9658-543e01751d2e"
   },
   "outputs": [
    {
     "name": "stderr",
     "output_type": "stream",
     "text": [
      "100%|██████████| 6091/6091 [14:03<00:00,  7.53it/s]\n"
     ]
    }
   ],
   "source": [
    "data=[]##this block of code predict all of the X(Both Training/Validating Data)\n",
    "from tqdm import tqdm\n",
    "for i in tqdm(range(6091)):\n",
    "  prediction=key[np.argmax(model.predict(X[i].reshape(1,224,224,3)))]\n",
    "  data.append(prediction)\n",
    "  "
   ]
  },
  {
   "cell_type": "code",
   "execution_count": 12,
   "metadata": {
    "colab": {
     "base_uri": "https://localhost:8080/",
     "height": 34
    },
    "colab_type": "code",
    "executionInfo": {
     "elapsed": 844020,
     "status": "ok",
     "timestamp": 1565735085143,
     "user": {
      "displayName": "Ur Tech Guide",
      "photoUrl": "https://lh3.googleusercontent.com/-IYblpruzPS4/AAAAAAAAAAI/AAAAAAAAAxE/NFCZVaQQn4g/s64/photo.jpg",
      "userId": "03152431167485721857"
     },
     "user_tz": -300
    },
    "id": "BuzHtdb-fOZb",
    "outputId": "7ee897b4-d8c6-4f72-fefc-415683b0a735"
   },
   "outputs": [
    {
     "name": "stdout",
     "output_type": "stream",
     "text": [
      "Counter({'Adult': 2911, 'youth': 2108, 'child': 659, 'Elder': 413})\n"
     ]
    }
   ],
   "source": [
    "import collections\n",
    "print(collections.Counter(data))##See how many classes were predicted"
   ]
  },
  {
   "cell_type": "code",
   "execution_count": 13,
   "metadata": {
    "colab": {
     "base_uri": "https://localhost:8080/",
     "height": 34
    },
    "colab_type": "code",
    "executionInfo": {
     "elapsed": 843384,
     "status": "ok",
     "timestamp": 1565735085148,
     "user": {
      "displayName": "Ur Tech Guide",
      "photoUrl": "https://lh3.googleusercontent.com/-IYblpruzPS4/AAAAAAAAAAI/AAAAAAAAAxE/NFCZVaQQn4g/s64/photo.jpg",
      "userId": "03152431167485721857"
     },
     "user_tz": -300
    },
    "id": "HFOzUUYxhPTS",
    "outputId": "7362c8d4-7b1e-4520-c8cc-4f6a7586625f"
   },
   "outputs": [
    {
     "name": "stdout",
     "output_type": "stream",
     "text": [
      "Counter({'Adult': 3493, 'youth': 1604, 'child': 618, 'Elder': 376})\n"
     ]
    }
   ],
   "source": [
    "data_real=[]\n",
    "for i in range(6091):\n",
    "  real=key[np.argmax(y[i])]\n",
    "  data_real.append(real)\n",
    "print(collections.Counter(data_real))##The orginal distribution of classes-not too bad"
   ]
  },
  {
   "cell_type": "code",
   "execution_count": 6,
   "metadata": {
    "colab": {},
    "colab_type": "code",
    "id": "VD7GhhUc2Zvj"
   },
   "outputs": [],
   "source": [
    "import cv2\n",
    "key=[\"child\",\"youth\",\"Adult\",\"Elder\"]\n",
    "model = keras.models.load_model(\"WokringAgeDetectionCNN.h5\")\n",
    "def Image_Check():##Upload any image from user and check the magin of the neural network\n",
    "    img=cv2.imread(\"Dad.jpg\",1)\n",
    "    img=cv2.resize(img,(224,224))\n",
    "    prediction=key[np.argmax(model.predict(img.reshape(1,224,224,3)))]\n",
    "    plt.imshow(img)\n",
    "    print(\"The Give Person is:{}\".format(prediction))"
   ]
  },
  {
   "cell_type": "code",
   "execution_count": 5,
   "metadata": {
    "colab": {},
    "colab_type": "code",
    "id": "4q1BdqHx676G"
   },
   "outputs": [],
   "source": [
    "# Image_Check()"
   ]
  },
  {
   "cell_type": "code",
   "execution_count": 0,
   "metadata": {
    "colab": {},
    "colab_type": "code",
    "id": "67uUVk9EAMDc"
   },
   "outputs": [],
   "source": []
  }
 ],
 "metadata": {
  "accelerator": "GPU",
  "colab": {
   "collapsed_sections": [],
   "name": "Untitled0.ipynb",
   "provenance": [],
   "version": "0.3.2"
  },
  "kernelspec": {
   "display_name": "Python 3",
   "language": "python",
   "name": "python3"
  },
  "language_info": {
   "codemirror_mode": {
    "name": "ipython",
    "version": 3
   },
   "file_extension": ".py",
   "mimetype": "text/x-python",
   "name": "python",
   "nbconvert_exporter": "python",
   "pygments_lexer": "ipython3",
   "version": "3.7.1"
  }
 },
 "nbformat": 4,
 "nbformat_minor": 1
}
